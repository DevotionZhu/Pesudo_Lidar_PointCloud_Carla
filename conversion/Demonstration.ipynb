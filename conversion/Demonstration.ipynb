{
 "cells": [
  {
   "cell_type": "code",
   "execution_count": 1,
   "metadata": {},
   "outputs": [],
   "source": [
    "from pyntcloud import PyntCloud\n",
    "from pyntcloud.io import bin as io_bin\n",
    "import numpy as np\n",
    "import pandas as pd\n",
    "import os\n",
    "\n",
    "from pythreejs import *\n",
    "import numpy as np\n",
    "from IPython.display import display\n",
    "from ipywidgets import HTML, Text, Output, VBox\n",
    "from traitlets import link, dlink\n",
    "\n",
    "import glob"
   ]
  },
  {
   "cell_type": "code",
   "execution_count": 25,
   "metadata": {},
   "outputs": [],
   "source": [
    "pointfiles = glob.glob(\"convert_image/Pointclouds/*\")\n",
    "# tails = glob.glob(\"convert_image/tail/*\")\n",
    "# lefts = glob.glob(\"convert_image/left/*\")\n",
    "# rights = glob.glob(\"convert_image/right/*\")"
   ]
  },
  {
   "cell_type": "code",
   "execution_count": 6,
   "metadata": {},
   "outputs": [],
   "source": [
    "points_numpy = np.loadtxt(pointfiles[0])\n",
    "points = pd.DataFrame(data=points_numpy)\n",
    "points.columns=['x', 'y', 'z']"
   ]
  },
  {
   "cell_type": "code",
   "execution_count": 9,
   "metadata": {},
   "outputs": [
    {
     "name": "stderr",
     "output_type": "stream",
     "text": [
      "C:\\ProgramData\\Anaconda3\\envs\\torch_env\\lib\\site-packages\\pythreejs\\traits.py:191: UserWarning: 64-bit data types not supported for WebGL data, casting to 32-bit.\n",
      "  warnings.warn('64-bit data types not supported for WebGL '\n"
     ]
    },
    {
     "data": {
      "application/vnd.jupyter.widget-view+json": {
       "model_id": "512b4b03d037463e950c5684cd6734f2",
       "version_major": 2,
       "version_minor": 0
      },
      "text/plain": [
       "Renderer(camera=PerspectiveCamera(aspect=1.6, fov=90.0, position=(0.7933041482026252, 38.371310216947684, 9.49…"
      ]
     },
     "metadata": {},
     "output_type": "display_data"
    },
    {
     "data": {
      "application/vnd.jupyter.widget-view+json": {
       "model_id": "4be086251d3546068d54288eaf25c275",
       "version_major": 2,
       "version_minor": 0
      },
      "text/plain": [
       "HBox(children=(Label(value='Point size:'), FloatSlider(value=0.02, max=0.2, step=0.0002), Label(value='Backgro…"
      ]
     },
     "metadata": {},
     "output_type": "display_data"
    }
   ],
   "source": [
    "cloud = PyntCloud(points)\n",
    "cloud.plot(initial_point_size=0.02)"
   ]
  },
  {
   "cell_type": "code",
   "execution_count": 10,
   "metadata": {},
   "outputs": [
    {
     "data": {
      "application/vnd.jupyter.widget-view+json": {
       "model_id": "8e8c90e6c39344e49bb9fe96ce00042b",
       "version_major": 2,
       "version_minor": 0
      },
      "text/plain": [
       "Renderer(camera=PerspectiveCamera(aspect=1.6, fov=90.0, position=(0.1871337944621719, 40.07486893910961, 11.82…"
      ]
     },
     "metadata": {},
     "output_type": "display_data"
    },
    {
     "data": {
      "application/vnd.jupyter.widget-view+json": {
       "model_id": "c53d1c7a09d74a0c93b1c6c00a96fe9a",
       "version_major": 2,
       "version_minor": 0
      },
      "text/plain": [
       "HBox(children=(Label(value='Point size:'), FloatSlider(value=0.02, max=0.2, step=0.0002), Label(value='Backgro…"
      ]
     },
     "metadata": {},
     "output_type": "display_data"
    }
   ],
   "source": [
    "points_numpy = np.loadtxt(pointfiles[4])\n",
    "points = pd.DataFrame(data=points_numpy)\n",
    "points.columns=['x', 'y', 'z']\n",
    "cloud = PyntCloud(points)\n",
    "cloud.plot(initial_point_size=0.02)"
   ]
  },
  {
   "cell_type": "code",
   "execution_count": 12,
   "metadata": {},
   "outputs": [
    {
     "data": {
      "application/vnd.jupyter.widget-view+json": {
       "model_id": "eff54085ada74caab97fb75218e3fff9",
       "version_major": 2,
       "version_minor": 0
      },
      "text/plain": [
       "Renderer(camera=PerspectiveCamera(aspect=1.6, fov=90.0, position=(-0.2864799960923069, 40.24710206933915, 11.4…"
      ]
     },
     "metadata": {},
     "output_type": "display_data"
    },
    {
     "data": {
      "application/vnd.jupyter.widget-view+json": {
       "model_id": "6705c24cd74d42c0bbe1bfaffd0e10bc",
       "version_major": 2,
       "version_minor": 0
      },
      "text/plain": [
       "HBox(children=(Label(value='Point size:'), FloatSlider(value=0.02, max=0.2, step=0.0002), Label(value='Backgro…"
      ]
     },
     "metadata": {},
     "output_type": "display_data"
    }
   ],
   "source": [
    "points_numpy = np.loadtxt(pointfiles[6])\n",
    "points = pd.DataFrame(data=points_numpy)\n",
    "points.columns=['x', 'y', 'z']\n",
    "cloud = PyntCloud(points)\n",
    "cloud.plot(initial_point_size=0.02)"
   ]
  },
  {
   "cell_type": "code",
   "execution_count": 17,
   "metadata": {},
   "outputs": [],
   "source": [
    "labelfiles = glob.glob(\"convert_image/Labels/*\")\n",
    "curr_boxes = np.load(labelfiles[0])"
   ]
  },
  {
   "cell_type": "code",
   "execution_count": 21,
   "metadata": {},
   "outputs": [],
   "source": [
    "def createBBox(bounding_box,C1,C2,C3,C4,C5,C6,C7,C8,color=\"yellow\"):\n",
    "    bounding_box.append(\n",
    "        {\n",
    "            \"color\":color,\n",
    "            \"vertices\":[C1,C2,C3,C4,C1]\n",
    "        })\n",
    "    bounding_box.append(\n",
    "        {\n",
    "            \"color\":color,\n",
    "            \"vertices\":[C1,C4,C8,C5,C1]\n",
    "        })\n",
    "    bounding_box.append(\n",
    "        {\n",
    "            \"color\":color,\n",
    "            \"vertices\":[C1,C2,C6,C5,C1]\n",
    "        })\n",
    "    bounding_box.append(\n",
    "        {\n",
    "            \"color\":color,\n",
    "            \"vertices\":[C2,C6,C7,C3,C2]\n",
    "        })\n",
    "    bounding_box.append(\n",
    "        {\n",
    "            \"color\":color,\n",
    "            \"vertices\":[C3,C7,C8,C4,C3]\n",
    "        })\n",
    "    return bounding_box"
   ]
  },
  {
   "cell_type": "code",
   "execution_count": 29,
   "metadata": {},
   "outputs": [],
   "source": [
    "boxes_gt = list()\n",
    "for each in curr_boxes:\n",
    "    each = each.tolist()\n",
    "    boxes_gt = createBBox(boxes_gt,each[0],each[1],each[2],each[3],each[4],each[5],each[6],each[7])"
   ]
  },
  {
   "cell_type": "code",
   "execution_count": 33,
   "metadata": {},
   "outputs": [
    {
     "data": {
      "application/vnd.jupyter.widget-view+json": {
       "model_id": "a8bc7073ffec41b6a8a83a6827e27b70",
       "version_major": 2,
       "version_minor": 0
      },
      "text/plain": [
       "Renderer(camera=PerspectiveCamera(aspect=1.6, fov=90.0, position=(0.7923133536980035, 39.56009878040152, 9.512…"
      ]
     },
     "metadata": {},
     "output_type": "display_data"
    },
    {
     "data": {
      "application/vnd.jupyter.widget-view+json": {
       "model_id": "6d3862c279da4aa1b7c99a1972da29ff",
       "version_major": 2,
       "version_minor": 0
      },
      "text/plain": [
       "HBox(children=(Label(value='Point size:'), FloatSlider(value=0.02, max=0.2, step=0.0002), Label(value='Backgro…"
      ]
     },
     "metadata": {},
     "output_type": "display_data"
    }
   ],
   "source": [
    "points_numpy = np.loadtxt(pointfiles[7])\n",
    "points = pd.DataFrame(data=points_numpy)\n",
    "points.columns=['x', 'y', 'z']\n",
    "cloud = PyntCloud(points)\n",
    "cloud.plot(initial_point_size=0.02, polylines=boxes_gt)"
   ]
  },
  {
   "cell_type": "code",
   "execution_count": null,
   "metadata": {},
   "outputs": [],
   "source": []
  }
 ],
 "metadata": {
  "kernelspec": {
   "display_name": "Python 3",
   "language": "python",
   "name": "python3"
  },
  "language_info": {
   "codemirror_mode": {
    "name": "ipython",
    "version": 3
   },
   "file_extension": ".py",
   "mimetype": "text/x-python",
   "name": "python",
   "nbconvert_exporter": "python",
   "pygments_lexer": "ipython3",
   "version": "3.7.1"
  }
 },
 "nbformat": 4,
 "nbformat_minor": 2
}
